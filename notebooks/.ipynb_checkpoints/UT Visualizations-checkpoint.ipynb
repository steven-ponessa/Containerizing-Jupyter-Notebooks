{
 "cells": [
  {
   "cell_type": "markdown",
   "metadata": {},
   "source": [
    "# UT Visualization\n",
    "by Steve Ponessa ([@ponessa](https://twitter.com/ponessa)), January 2021\n",
    "\n",
    "<center><img src=\"img/jupyter.png\" alt=\"Jupyter Image\" width=\"10%\"></img></center>"
   ]
  },
  {
   "cell_type": "code",
   "execution_count": 1,
   "metadata": {},
   "outputs": [
    {
     "data": {
      "text/html": [
       "<style>.container { width:95% !important; }</style>"
      ],
      "text/plain": [
       "<IPython.core.display.HTML object>"
      ]
     },
     "metadata": {},
     "output_type": "display_data"
    }
   ],
   "source": [
    "from IPython.display import display, HTML\n",
    "display(HTML(\"<style>.container { width:95% !important; }</style>\"))"
   ]
  },
  {
   "cell_type": "markdown",
   "metadata": {},
   "source": [
    "<a id=\"toc\"></a>\n",
    "\n",
    "<div class=\"alert alert-block alert-info\" style=\"margin-top: 20px\">\n",
    "    \n",
    "**Table of contents**\n",
    "\n",
    "1. [Overview](#1.0)\n",
    "1. [Setup](#2.0)\n",
    "1. [Run FedCat API](#3.0)\n",
    "    1. [UT Taxonomy](#3.1)\n",
    "    1. [WFM Perspective](#3.2)\n",
    "    1. [Financial Perspective](#3.3)\n",
    "    \n",
    "</div>"
   ]
  },
  {
   "cell_type": "markdown",
   "metadata": {},
   "source": [
    "<a id=\"1.0\"></a>\n",
    "\n",
    "## Overview    [&#8593;](#toc)\n",
    "\n",
    "<p>\n",
    "<a data-toggle=\"collapse\" href=\"#collapse-overview\" style=\"text-decoration: none;\">(<i class=\"fa fa-plus\"></i>/<i class=\"fa fa-minus\"></i>) show/hide</a>\n",
    "</p>\n",
    "<div id=\"collapse-overview\" class=\"collapse in\">\n",
    "    \n",
    "The Unified Taxonomy is stored in the **Federated Catalog** (**FedCat**) and accessible through APIs.  However, constructing and executing the APIs, then organizing the output into an underestandable taxonomy, is too cumbersome for the average, non-technical users.  This notebook enables the UT GBS taxonomy, and the taxonomy from both a WFM and Financial perspective, to be pulled using the FedCat API and visualized in a navigatable tree structure.\n",
    "\n",
    "The process is as follows:\n",
    "1. Include required libraries and modules\n",
    "1. Run FedCat API to get WFM, Financial, and straight UT structure\n",
    "    1. **Setup**: includes the required libraries and modules (specifically `modules.wfm_utilities` used to invoke the FedCat API and import the results into a **Pandas Dataframe** and display the data and taxonomy within a D3 tree (`../js/trees.js`).\n",
    "    1. **Run FedCat API**: This section sets up the base FedCat URI (including setting the query parameter to pull only open GBS offerings (`q = 'utlevel10:10J00;ocstatus:O'`) and then repeats the following for the straight UT taxonomy, WFM perspective of the UT taxonomy, and the financial perspective of the UT taxonomy.  For each the following occur.\n",
    "        1. Set the filters and columns to be pulled from FedCat\n",
    "        1. Calls the API and formats the data per perspective\n",
    "        1. Removes duplicate records\n",
    "        1. Generates a D3 tree of the taxonomy for inspection\n",
    "\n",
    "</div>"
   ]
  },
  {
   "cell_type": "markdown",
   "metadata": {},
   "source": [
    "<a id=\"2.0\"></a>\n",
    "\n",
    "---\n",
    "## Setup\n",
    "\n",
    "This section pulls in the required libraries and modules"
   ]
  },
  {
   "cell_type": "code",
   "execution_count": 2,
   "metadata": {},
   "outputs": [],
   "source": [
    "import sys\n",
    "sys.path.append(\"../\")\n",
    "import modules.wfm_utilities as util\n",
    "import requests\n",
    "import pandas as pd\n",
    "from datetime import date"
   ]
  },
  {
   "cell_type": "markdown",
   "metadata": {},
   "source": [
    "**Required only to build D3 tree to check data pull and setup**"
   ]
  },
  {
   "cell_type": "code",
   "execution_count": 3,
   "metadata": {},
   "outputs": [
    {
     "data": {
      "application/javascript": [
       "require.config({paths: {d3: 'https://d3js.org/d3.v3.min'}});"
      ],
      "text/plain": [
       "<IPython.core.display.Javascript object>"
      ]
     },
     "metadata": {},
     "output_type": "display_data"
    },
    {
     "data": {
      "application/javascript": [
       "// First undefine 'circles' so we can easily reload this file.\n",
       "require.undef('trees');\n",
       "\n",
       "define('trees', ['d3'], function (d3) {\n",
       "\n",
       "    function build_tree_graph(container, jsonFileName, width, height) {       \n",
       "\n",
       "        //var x = document.getElementById(containerTag);\n",
       "        //x.innerHTML = \"\";\n",
       "\n",
       "        console.log(\"in trees.js build_tree_graph\")\n",
       "        console.log(jsonFileName.jsonFile)\n",
       "\n",
       "        var margin = { top: 20, right: 120, bottom: 20, left: 120 },\n",
       "            canvas_height = height || 700,\n",
       "            canvas_width = width || 960\n",
       "        var tree_width = canvas_width - margin.right - margin.left,\n",
       "            tree_height = canvas_height - margin.top - margin.bottom,\n",
       "            tree_level_depth = 180;\n",
       "\n",
       "        var i = 0,\n",
       "            duration = 750,\n",
       "            root;\n",
       "\n",
       "        var tree = d3.layout.tree()\n",
       "        //var tree = d3.tree()\n",
       "            .size([tree_height, tree_width]);\n",
       "\n",
       "        var diagonal = d3.svg.diagonal()\n",
       "            .projection(function (d) { return [d.y, d.x]; });\n",
       "\n",
       "        var svg = d3.select(container).append(\"svg\")\n",
       "            .attr(\"width\", canvas_width)\n",
       "            .attr(\"height\", canvas_height)\n",
       "            .append(\"g\")\n",
       "            .attr(\"transform\", \"translate(\" + margin.left + \",\" + margin.top + \")\");\n",
       "\n",
       "        //d3.json(\"input_graph_tree.json\", function (error, tree_data) {\n",
       "        d3.json(jsonFileName.jsonFile, function (error, tree_data) {\n",
       "            root = tree_data;\n",
       "            root.x0 = tree_height / 2;\n",
       "            root.y0 = 0;\n",
       "\n",
       "            function collapse(d) {\n",
       "                if (d.children) {\n",
       "                    d._children = d.children;\n",
       "                    d._children.forEach(collapse);\n",
       "                    d.children = null;\n",
       "                }\n",
       "            }\n",
       "\n",
       "            root.children.forEach(collapse);\n",
       "            update(root);\n",
       "        });\n",
       "\n",
       "        //var treeGraph = document.getElementById(containerTag)\n",
       "        //d3.select(treeGraph.frameElement).style(\"height\", \"800px\");\n",
       "\n",
       "        function update(source) {\n",
       "\n",
       "            // Compute the new tree layout.\n",
       "            var nodes = tree.nodes(root),\n",
       "                links = tree.links(nodes);\n",
       "\n",
       "            // Normalize for fixed-depth.\n",
       "            nodes.forEach(function (d) { d.y = d.depth * tree_level_depth; });\n",
       "\n",
       "            // Set unique ID for each node\n",
       "            var node = svg.selectAll(\"g.node\")\n",
       "                .data(nodes, function (d) { return d.id || (d.id = ++i); });\n",
       "\n",
       "            // Enter any new nodes at the parent's previous position.\n",
       "            var new_nodes = node.enter().append(\"g\")\n",
       "                .attr(\"class\", \"node\")\n",
       "                .attr(\"transform\", function (d) { return \"translate(\" + source.y0 + \",\" + source.x0 + \")\"; })\n",
       "                .on(\"click\", click);\n",
       "\n",
       "            new_nodes.append(\"circle\")\n",
       "                .attr(\"r\", 1e-6)\n",
       "                //.style(\"fill\", function (d) { return d._children || d._children.length>0 ? \"lightsteelblue\" : \"#fff\"; });\n",
       "                .style(\"fill\", function (d) { return d._children  ? \"lightsteelblue\" : \"#fff\"; });\n",
       "\n",
       "            new_nodes.append(\"text\")\n",
       "                .attr(\"x\", function (d) { return d.children || d._children ? -10 : 10; })\n",
       "                .attr(\"dy\", \".35em\")\n",
       "                .attr(\"text-anchor\", function (d) { return d.children || d._children ? \"end\" : \"start\"; })\n",
       "                .text(function (d) { return d.name; })\n",
       "                .style(\"fill-opacity\", 1e-6);\n",
       "\n",
       "            // Transition nodes to their new position.\n",
       "            var moved_node = node.transition().duration(duration)\n",
       "                .attr(\"transform\", function (d) { return \"translate(\" + d.y + \",\" + d.x + \")\"; });\n",
       "            moved_node.select(\"circle\")\n",
       "                .attr(\"r\", 4.5)\n",
       "                .style(\"fill\", function (d) { return d._children ? \"lightsteelblue\" : \"#fff\"; });\n",
       "            moved_node.select(\"text\")\n",
       "                .style(\"fill-opacity\", 1);\n",
       "\n",
       "            // Transition exiting nodes to the parent's new position.\n",
       "            var hidden_nodes = node.exit().transition().duration(duration)\n",
       "                .attr(\"transform\", function (d) { return \"translate(\" + source.y + \",\" + source.x + \")\"; })\n",
       "                .remove();\n",
       "            hidden_nodes.select(\"circle\")\n",
       "                .attr(\"r\", 1e-6);\n",
       "            hidden_nodes.select(\"text\")\n",
       "                .style(\"fill-opacity\", 1e-6);\n",
       "\n",
       "            // Update the links…\n",
       "            var link = svg.selectAll(\"path.link\")\n",
       "                .data(links, function (d) { return d.target.id; });\n",
       "\n",
       "            // Enter any new links at the parent's previous position.\n",
       "            link.enter().insert(\"path\", \"g\")\n",
       "                .attr(\"class\", \"link\")\n",
       "                .attr(\"d\", function (d) {\n",
       "                    var o = { x: source.x0, y: source.y0 };\n",
       "                    return diagonal({ source: o, target: o });\n",
       "                })\n",
       "                .append(\"svg:title\")\n",
       "                .text(function (d, i) { return d.target.edge_name; });\n",
       "\n",
       "            //Transition links to their new position.\n",
       "            link.transition().duration(duration)\n",
       "                .attr(\"d\", diagonal);\n",
       "\n",
       "            // Transition exiting nodes to the parent's new position.\n",
       "            link.exit().transition().duration(duration)\n",
       "                .attr(\"d\", function (d) {\n",
       "                    var o = { x: source.x, y: source.y };\n",
       "                    return diagonal({ source: o, target: o });\n",
       "                })\n",
       "                .remove();\n",
       "\n",
       "            // Stash the old positions for transition.\n",
       "            nodes.forEach(function (d) {\n",
       "                d.x0 = d.x;\n",
       "                d.y0 = d.y;\n",
       "            });\n",
       "        }\n",
       "\n",
       "        // Toggle children on click.\n",
       "        function click(d) {\n",
       "            if (d.children) {\n",
       "                d._children = d.children;\n",
       "                d.children = null;\n",
       "            } else {\n",
       "                d.children = d._children;\n",
       "                d._children = null;\n",
       "            }\n",
       "            update(d);\n",
       "        }\n",
       "\n",
       "    }\n",
       "\n",
       "    return build_tree_graph;\n",
       "});\n",
       "\n",
       "element.append('<small>&#127795; &#127876; Loaded trees.js &#127794; &#127796; </small>');"
      ],
      "text/plain": [
       "<IPython.core.display.Javascript object>"
      ]
     },
     "metadata": {},
     "output_type": "display_data"
    },
    {
     "data": {
      "text/html": [
       "<style>\n",
       "    .node {\n",
       "        cursor: pointer;\n",
       "    }\n",
       "\n",
       "    .node circle {\n",
       "        fill: #fff;\n",
       "        stroke: steelblue;\n",
       "        stroke-width: 1.5px;\n",
       "    }\n",
       "\n",
       "    .node text {\n",
       "        font: 10px sans-serif;\n",
       "    }\n",
       "\n",
       "    .link {\n",
       "        fill: none;\n",
       "        stroke: #eee;\n",
       "        stroke-width: 3px;\n",
       "    }\n",
       "</style>"
      ],
      "text/plain": [
       "<IPython.core.display.HTML object>"
      ]
     },
     "metadata": {},
     "output_type": "display_data"
    }
   ],
   "source": [
    "from IPython.display import display, Javascript, HTML\n",
    "display(Javascript(\"require.config({paths: {d3: 'https://d3js.org/d3.v3.min'}});\"))\n",
    "display(Javascript(filename=\"../js/trees.js\"))\n",
    "display(HTML(filename=\"../css/trees.css.html\"))"
   ]
  },
  {
   "cell_type": "markdown",
   "metadata": {},
   "source": [
    "<a id=\"2.1\"></a>\n",
    "\n",
    "---\n",
    "## Set run date and status\n",
    "\n",
    "This step will set up the run date, which will be added to the output file name.  It is also used to set if the FedCat API pull will include all or only open offerings.  When processing for the IBM Services Data Governance web site, it should be run with the status as both O (Open) and A (All)."
   ]
  },
  {
   "cell_type": "code",
   "execution_count": 4,
   "metadata": {},
   "outputs": [],
   "source": [
    "# Restart and Run All Cells, once with status=O and one with status=A\n",
    "\n",
    "today = str(date.today().strftime(\"%Y-%m-%d\"))\n",
    "status = \"O\""
   ]
  },
  {
   "cell_type": "markdown",
   "metadata": {},
   "source": [
    "<a id=\"3.0\"></a>\n",
    "\n",
    "---\n",
    "## Run FedCat API"
   ]
  },
  {
   "cell_type": "code",
   "execution_count": 7,
   "metadata": {},
   "outputs": [],
   "source": [
    "# Set up URL\n",
    "protocol = 'https'\n",
    "host = 'prodfedcat001.w3-969.ibm.com:3000/api'\n",
    "version = 'v0.1'\n",
    "api = 'offerings'\n",
    "size = 'ALL'\n",
    "q = 'utlevel10:10J00;ocstatus:O'\n",
    "all_spec = ''\n",
    "if status == 'A': \n",
    "    q = 'utlevel10:10J00'\n",
    "    all_spec = 'all-'"
   ]
  },
  {
   "cell_type": "markdown",
   "metadata": {},
   "source": [
    "<a id=\"3.1\"></a>\n",
    "##### UT Taxonomy"
   ]
  },
  {
   "cell_type": "code",
   "execution_count": 8,
   "metadata": {},
   "outputs": [
    {
     "name": "stdout",
     "output_type": "stream",
     "text": [
      "URL: https://prodfedcat001.w3-969.ibm.com:3000/api/v0.1/offerings/?size=ALL&q=utlevel10:10J00;ocstatus:O&filters=utlevel10,utlevel10description,utlevel15,utlevel15description,utlevel17,utlevel17description,utlevel20,utlevel20description,utlevel30,utlevel30description,sltlevel30,gbspracticecode,gbspracticedescription,sltlevel20,gbsofferingattribute,ocstatus\n"
     ]
    }
   ],
   "source": [
    "filters = 'utlevel10,utlevel10description,utlevel15,utlevel15description,utlevel17,utlevel17description,utlevel20,utlevel20description\\\n",
    ",utlevel30,utlevel30description,sltlevel30,gbspracticecode,gbspracticedescription,sltlevel20,gbsofferingattribute,ocstatus'\n",
    "url = (protocol + '://' + host + '/' + version + '/' + api  + '/?size=' + size + '&q=' + q + '&filters=' + filters)\n",
    "print(\"URL:\",url)\n",
    "\n",
    "columns=['utlevel10','utlevel10description','utlevel15','utlevel15description','utlevel17','utlevel17description','utlevel20','utlevel20description'\n",
    "         , 'utlevel30', 'utlevel30description', 'sltlevel30','gbspracticecode','gbspracticedescription','sltlevel20','gbsofferingattribute','ocstatus']"
   ]
  },
  {
   "cell_type": "code",
   "execution_count": 9,
   "metadata": {},
   "outputs": [
    {
     "name": "stdout",
     "output_type": "stream",
     "text": [
      "(567, 16)\n",
      "(435, 16)\n"
     ]
    }
   ],
   "source": [
    "# Call the fedcat API\n",
    "ut_tax_df=util.get_dataframe_from_fedcat_api(url, columns)\n",
    "print(ut_tax_df.shape)\n",
    "# Remove UT where SLT Level 30 (a.k.a. OCC) is blank\n",
    "ut_tax_df.drop(ut_tax_df[ut_tax_df.sltlevel30.isna()].index,inplace=True)\n",
    "print(ut_tax_df.shape)"
   ]
  },
  {
   "cell_type": "code",
   "execution_count": 10,
   "metadata": {},
   "outputs": [
    {
     "name": "stdout",
     "output_type": "stream",
     "text": [
      "(435, 10)\n"
     ]
    },
    {
     "data": {
      "text/html": [
       "<div>\n",
       "<style scoped>\n",
       "    .dataframe tbody tr th:only-of-type {\n",
       "        vertical-align: middle;\n",
       "    }\n",
       "\n",
       "    .dataframe tbody tr th {\n",
       "        vertical-align: top;\n",
       "    }\n",
       "\n",
       "    .dataframe thead th {\n",
       "        text-align: right;\n",
       "    }\n",
       "</style>\n",
       "<table border=\"1\" class=\"dataframe\">\n",
       "  <thead>\n",
       "    <tr style=\"text-align: right;\">\n",
       "      <th></th>\n",
       "      <th>utlevel10</th>\n",
       "      <th>utlevel10description</th>\n",
       "      <th>utlevel15</th>\n",
       "      <th>utlevel15description</th>\n",
       "      <th>utlevel17</th>\n",
       "      <th>utlevel17description</th>\n",
       "      <th>utlevel20</th>\n",
       "      <th>utlevel20description</th>\n",
       "      <th>utlevel30</th>\n",
       "      <th>utlevel30description</th>\n",
       "    </tr>\n",
       "  </thead>\n",
       "  <tbody>\n",
       "    <tr>\n",
       "      <th>378</th>\n",
       "      <td>10J00</td>\n",
       "      <td>Global Business Services</td>\n",
       "      <td>15JIA</td>\n",
       "      <td>Promontory</td>\n",
       "      <td>17PRM</td>\n",
       "      <td>Financial Services (PFG)</td>\n",
       "      <td>20B19</td>\n",
       "      <td>Financial Services (PFG) Portfolio</td>\n",
       "      <td>30BU7</td>\n",
       "      <td>PFG Promontory Obligations Library&lt;ol&gt;&lt;li&gt;OCC:...</td>\n",
       "    </tr>\n",
       "    <tr>\n",
       "      <th>164</th>\n",
       "      <td>10J00</td>\n",
       "      <td>Global Business Services</td>\n",
       "      <td>15JIA</td>\n",
       "      <td>Promontory</td>\n",
       "      <td>17PRM</td>\n",
       "      <td>Financial Services (PFG)</td>\n",
       "      <td>20B19</td>\n",
       "      <td>Financial Services (PFG) Portfolio</td>\n",
       "      <td>30BUQ</td>\n",
       "      <td>PFG Data Management&lt;ol&gt;&lt;li&gt;OCC: 69SW-12P&lt;/li&gt;&lt;...</td>\n",
       "    </tr>\n",
       "    <tr>\n",
       "      <th>163</th>\n",
       "      <td>10J00</td>\n",
       "      <td>Global Business Services</td>\n",
       "      <td>15JIA</td>\n",
       "      <td>Promontory</td>\n",
       "      <td>17PRM</td>\n",
       "      <td>Financial Services (PFG)</td>\n",
       "      <td>20B19</td>\n",
       "      <td>Financial Services (PFG) Portfolio</td>\n",
       "      <td>30BVO</td>\n",
       "      <td>PFG Client Response&lt;ol&gt;&lt;li&gt;OCC: 69SW-10P&lt;/li&gt;&lt;...</td>\n",
       "    </tr>\n",
       "    <tr>\n",
       "      <th>161</th>\n",
       "      <td>10J00</td>\n",
       "      <td>Global Business Services</td>\n",
       "      <td>15JIA</td>\n",
       "      <td>Promontory</td>\n",
       "      <td>17PRM</td>\n",
       "      <td>Financial Services (PFG)</td>\n",
       "      <td>20B19</td>\n",
       "      <td>Financial Services (PFG) Portfolio</td>\n",
       "      <td>30BY8</td>\n",
       "      <td>PFG Efficiency &amp; Effectiveness&lt;ol&gt;&lt;li&gt;OCC: 69S...</td>\n",
       "    </tr>\n",
       "    <tr>\n",
       "      <th>374</th>\n",
       "      <td>10J00</td>\n",
       "      <td>Global Business Services</td>\n",
       "      <td>15TSL</td>\n",
       "      <td>GBS Top Service Line (AUO)</td>\n",
       "      <td>17TSL</td>\n",
       "      <td>GBS Top Service Line Market (AUO)</td>\n",
       "      <td>20J12</td>\n",
       "      <td>GBS Top Service Line Portfolio (AUO)</td>\n",
       "      <td>30JIJ</td>\n",
       "      <td>GBS Top Service Line Offering (AUO)&lt;ol&gt;&lt;li&gt;OCC...</td>\n",
       "    </tr>\n",
       "  </tbody>\n",
       "</table>\n",
       "</div>"
      ],
      "text/plain": [
       "    utlevel10      utlevel10description utlevel15        utlevel15description  \\\n",
       "378     10J00  Global Business Services     15JIA                  Promontory   \n",
       "164     10J00  Global Business Services     15JIA                  Promontory   \n",
       "163     10J00  Global Business Services     15JIA                  Promontory   \n",
       "161     10J00  Global Business Services     15JIA                  Promontory   \n",
       "374     10J00  Global Business Services     15TSL  GBS Top Service Line (AUO)   \n",
       "\n",
       "    utlevel17               utlevel17description utlevel20  \\\n",
       "378     17PRM           Financial Services (PFG)     20B19   \n",
       "164     17PRM           Financial Services (PFG)     20B19   \n",
       "163     17PRM           Financial Services (PFG)     20B19   \n",
       "161     17PRM           Financial Services (PFG)     20B19   \n",
       "374     17TSL  GBS Top Service Line Market (AUO)     20J12   \n",
       "\n",
       "                     utlevel20description utlevel30  \\\n",
       "378    Financial Services (PFG) Portfolio     30BU7   \n",
       "164    Financial Services (PFG) Portfolio     30BUQ   \n",
       "163    Financial Services (PFG) Portfolio     30BVO   \n",
       "161    Financial Services (PFG) Portfolio     30BY8   \n",
       "374  GBS Top Service Line Portfolio (AUO)     30JIJ   \n",
       "\n",
       "                                  utlevel30description  \n",
       "378  PFG Promontory Obligations Library<ol><li>OCC:...  \n",
       "164  PFG Data Management<ol><li>OCC: 69SW-12P</li><...  \n",
       "163  PFG Client Response<ol><li>OCC: 69SW-10P</li><...  \n",
       "161  PFG Efficiency & Effectiveness<ol><li>OCC: 69S...  \n",
       "374  GBS Top Service Line Offering (AUO)<ol><li>OCC...  "
      ]
     },
     "execution_count": 10,
     "metadata": {},
     "output_type": "execute_result"
    }
   ],
   "source": [
    "# Replace Null GBS practices to \"none\".  Without this the tree does not show UT level 30s\n",
    "ut_tax_df.loc[ut_tax_df['gbspracticecode'].isnull(),'gbspracticecode'] = \"(\"+ut_tax_df['utlevel17']+\") none\"\n",
    "ut_tax_df.loc[ut_tax_df['gbspracticedescription'].isnull(),'gbspracticedescription'] = \"none\"\n",
    "\n",
    "s = \"\" if status=='O' else \"<li>OCC Status: \"+ut_tax_df['ocstatus']+\"</li>\"\n",
    "\n",
    "ut_tax_df['utlevel30description']=ut_tax_df['utlevel30description']+\"<ol><li>OCC: \"+ut_tax_df['sltlevel30']+\"</li><li>GBP Practice: \"+ut_tax_df['gbspracticecode']+\" - \"\\\n",
    "+ ut_tax_df['gbspracticedescription']+\"</li><li>Offering Attribute: \" + ut_tax_df['sltlevel20']+\" - \"+ut_tax_df['gbsofferingattribute']+\"</li>\"\\\n",
    "+ s\\\n",
    "+\"</ol>\"\n",
    "\n",
    "# Drop any duplicates\n",
    "ut_tax_df.drop_duplicates(inplace = True)\n",
    "\n",
    "# Sort the results\n",
    "ut_tax_df.sort_values(by=['utlevel10', 'utlevel15','utlevel17','utlevel20','utlevel30'], inplace = True)\n",
    "\n",
    "# Remove the extra sltlevel30 - Since it is now in the prefix of the ut level 30 (Java tree builder assumes code - description pairs)\n",
    "ut_tax_df.drop(columns=['sltlevel20', 'gbsofferingattribute', 'gbspracticecode','gbspracticedescription','sltlevel30','ocstatus'], inplace = True)\n",
    "\n",
    "print(ut_tax_df.shape)\n",
    "ut_tax_df.tail()"
   ]
  },
  {
   "cell_type": "code",
   "execution_count": 11,
   "metadata": {
    "scrolled": false
   },
   "outputs": [
    {
     "data": {
      "application/javascript": [
       "\n",
       "        (function(element){\n",
       "            require(['trees'], function(trees) {\n",
       "                trees(element.get(0), {\"jsonFile\": \"data/ut_df.json\"}, 1600, 800);\n",
       "            });\n",
       "        })(element);\n",
       "    "
      ],
      "text/plain": [
       "<IPython.core.display.Javascript object>"
      ]
     },
     "metadata": {},
     "output_type": "display_data"
    }
   ],
   "source": [
    "# Build tree to verifyy the data pull and setup\n",
    "util.build_tree(ut_tax_df, [\"utlevel10\",\"utlevel15\",\"utlevel17\",\"utlevel20\",\"utlevel30description\"],1600,800,'data/ut_df.json')"
   ]
  },
  {
   "cell_type": "markdown",
   "metadata": {},
   "source": [
    "<a id=\"3.2\"></a>\n",
    "\n",
    "---\n",
    "##### WFM Perspective"
   ]
  },
  {
   "cell_type": "code",
   "execution_count": 12,
   "metadata": {},
   "outputs": [
    {
     "name": "stdout",
     "output_type": "stream",
     "text": [
      "URL: https://prodfedcat001.w3-969.ibm.com:3000/api/v0.1/offerings/?size=ALL&q=utlevel10:10J00;ocstatus:O&filters=utlevel10,utlevel10description,utlevel15,utlevel15description,utlevel17,utlevel17description,gbspracticecode,gbspracticedescription,utlevel30,utlevel30description,sltlevel30,ocstatus\n"
     ]
    }
   ],
   "source": [
    "filters = 'utlevel10,utlevel10description,utlevel15,utlevel15description,utlevel17,utlevel17description\\\n",
    ",gbspracticecode,gbspracticedescription,utlevel30,utlevel30description,sltlevel30,ocstatus'\n",
    "url = (protocol + '://' + host + '/' + version + '/' + api  + '/?size=' + size + '&q=' + q + '&filters=' + filters)\n",
    "print(\"URL:\",url)\n",
    "\n",
    "columns=['utlevel10','utlevel10description','utlevel15','utlevel15description','utlevel17','utlevel17description'\n",
    "         ,'gbspracticecode','gbspracticedescription', 'utlevel30', 'utlevel30description', 'sltlevel30','ocstatus']"
   ]
  },
  {
   "cell_type": "code",
   "execution_count": 13,
   "metadata": {},
   "outputs": [
    {
     "name": "stdout",
     "output_type": "stream",
     "text": [
      "(567, 12)\n",
      "(435, 12)\n",
      "(435, 11)\n"
     ]
    },
    {
     "data": {
      "text/html": [
       "<div>\n",
       "<style scoped>\n",
       "    .dataframe tbody tr th:only-of-type {\n",
       "        vertical-align: middle;\n",
       "    }\n",
       "\n",
       "    .dataframe tbody tr th {\n",
       "        vertical-align: top;\n",
       "    }\n",
       "\n",
       "    .dataframe thead th {\n",
       "        text-align: right;\n",
       "    }\n",
       "</style>\n",
       "<table border=\"1\" class=\"dataframe\">\n",
       "  <thead>\n",
       "    <tr style=\"text-align: right;\">\n",
       "      <th></th>\n",
       "      <th>utlevel10</th>\n",
       "      <th>utlevel10description</th>\n",
       "      <th>utlevel15</th>\n",
       "      <th>utlevel15description</th>\n",
       "      <th>utlevel17</th>\n",
       "      <th>utlevel17description</th>\n",
       "      <th>gbspracticecode</th>\n",
       "      <th>gbspracticedescription</th>\n",
       "      <th>utlevel30</th>\n",
       "      <th>utlevel30description</th>\n",
       "      <th>ocstatus</th>\n",
       "    </tr>\n",
       "  </thead>\n",
       "  <tbody>\n",
       "    <tr>\n",
       "      <th>539</th>\n",
       "      <td>10J00</td>\n",
       "      <td>Global Business Services</td>\n",
       "      <td>15CAI</td>\n",
       "      <td>Cloud Application Innovation</td>\n",
       "      <td>17OCN</td>\n",
       "      <td>CAI Security</td>\n",
       "      <td>GBS041</td>\n",
       "      <td>GBS Security Services - Data &amp; Application Sec...</td>\n",
       "      <td>30B24</td>\n",
       "      <td>(6950-27T) (O) (GBS) Data Activity Monitoring ...</td>\n",
       "      <td>O</td>\n",
       "    </tr>\n",
       "    <tr>\n",
       "      <th>333</th>\n",
       "      <td>10J00</td>\n",
       "      <td>Global Business Services</td>\n",
       "      <td>15CAI</td>\n",
       "      <td>Cloud Application Innovation</td>\n",
       "      <td>17OCN</td>\n",
       "      <td>CAI Security</td>\n",
       "      <td>GBS041</td>\n",
       "      <td>GBS Security Services - Data &amp; Application Sec...</td>\n",
       "      <td>30B2I</td>\n",
       "      <td>(6950-23O) (O) (GBS) Data Sec Svcs (Custom Mgd...</td>\n",
       "      <td>O</td>\n",
       "    </tr>\n",
       "    <tr>\n",
       "      <th>538</th>\n",
       "      <td>10J00</td>\n",
       "      <td>Global Business Services</td>\n",
       "      <td>15CAI</td>\n",
       "      <td>Cloud Application Innovation</td>\n",
       "      <td>17OCN</td>\n",
       "      <td>CAI Security</td>\n",
       "      <td>GBS041</td>\n",
       "      <td>GBS Security Services - Data &amp; Application Sec...</td>\n",
       "      <td>30BKK</td>\n",
       "      <td>(6950-87F) (O) (GBS) Data Security Svcs (Mgd) ...</td>\n",
       "      <td>O</td>\n",
       "    </tr>\n",
       "    <tr>\n",
       "      <th>332</th>\n",
       "      <td>10J00</td>\n",
       "      <td>Global Business Services</td>\n",
       "      <td>15CAI</td>\n",
       "      <td>Cloud Application Innovation</td>\n",
       "      <td>17OCN</td>\n",
       "      <td>CAI Security</td>\n",
       "      <td>GBS041</td>\n",
       "      <td>GBS Security Services - Data &amp; Application Sec...</td>\n",
       "      <td>30BKL</td>\n",
       "      <td>(6950-17T) (O) (GBS) Data Security Svcs (Agile...</td>\n",
       "      <td>O</td>\n",
       "    </tr>\n",
       "    <tr>\n",
       "      <th>260</th>\n",
       "      <td>10J00</td>\n",
       "      <td>Global Business Services</td>\n",
       "      <td>15CAI</td>\n",
       "      <td>Cloud Application Innovation</td>\n",
       "      <td>17OCN</td>\n",
       "      <td>CAI Security</td>\n",
       "      <td>GBS041</td>\n",
       "      <td>GBS Security Services - Data &amp; Application Sec...</td>\n",
       "      <td>30BQ0</td>\n",
       "      <td>(6950-96G) (O) (GBS) Security Services for CAS...</td>\n",
       "      <td>O</td>\n",
       "    </tr>\n",
       "  </tbody>\n",
       "</table>\n",
       "</div>"
      ],
      "text/plain": [
       "    utlevel10      utlevel10description utlevel15  \\\n",
       "539     10J00  Global Business Services     15CAI   \n",
       "333     10J00  Global Business Services     15CAI   \n",
       "538     10J00  Global Business Services     15CAI   \n",
       "332     10J00  Global Business Services     15CAI   \n",
       "260     10J00  Global Business Services     15CAI   \n",
       "\n",
       "             utlevel15description utlevel17 utlevel17description  \\\n",
       "539  Cloud Application Innovation     17OCN         CAI Security   \n",
       "333  Cloud Application Innovation     17OCN         CAI Security   \n",
       "538  Cloud Application Innovation     17OCN         CAI Security   \n",
       "332  Cloud Application Innovation     17OCN         CAI Security   \n",
       "260  Cloud Application Innovation     17OCN         CAI Security   \n",
       "\n",
       "    gbspracticecode                             gbspracticedescription  \\\n",
       "539          GBS041  GBS Security Services - Data & Application Sec...   \n",
       "333          GBS041  GBS Security Services - Data & Application Sec...   \n",
       "538          GBS041  GBS Security Services - Data & Application Sec...   \n",
       "332          GBS041  GBS Security Services - Data & Application Sec...   \n",
       "260          GBS041  GBS Security Services - Data & Application Sec...   \n",
       "\n",
       "    utlevel30                               utlevel30description ocstatus  \n",
       "539     30B24  (6950-27T) (O) (GBS) Data Activity Monitoring ...        O  \n",
       "333     30B2I  (6950-23O) (O) (GBS) Data Sec Svcs (Custom Mgd...        O  \n",
       "538     30BKK  (6950-87F) (O) (GBS) Data Security Svcs (Mgd) ...        O  \n",
       "332     30BKL  (6950-17T) (O) (GBS) Data Security Svcs (Agile...        O  \n",
       "260     30BQ0  (6950-96G) (O) (GBS) Security Services for CAS...        O  "
      ]
     },
     "execution_count": 13,
     "metadata": {},
     "output_type": "execute_result"
    }
   ],
   "source": [
    "# Call the fedcat API\n",
    "ut_wfm_tax_df=util.get_dataframe_from_fedcat_api(url, columns)\n",
    "print(ut_wfm_tax_df.shape)\n",
    "\n",
    "# Remove UT where SLT Level 30 (a.k.a. OCC) is blank\n",
    "ut_wfm_tax_df.drop(ut_wfm_tax_df[ut_wfm_tax_df.sltlevel30.isna()].index,inplace=True)\n",
    "print(ut_wfm_tax_df.shape)\n",
    "\n",
    "# Repurpose UT level 30 description to be prefixed with sltlevel30 code\n",
    "ut_wfm_tax_df['utlevel30description']=\"(\"+ut_wfm_tax_df['sltlevel30']+\") (\"+ut_wfm_tax_df['ocstatus']+\") \"+ut_wfm_tax_df['utlevel30description']\n",
    "\n",
    "# Replace Null GBS practices to \"none\".  Without this the tree does not show UT level 30s\n",
    "ut_wfm_tax_df.loc[ut_wfm_tax_df['gbspracticecode'].isnull(),'gbspracticecode'] = \"(\"+ut_wfm_tax_df['utlevel17']+\") none\"\n",
    "ut_wfm_tax_df.loc[ut_wfm_tax_df['gbspracticedescription'].isnull(),'gbspracticedescription'] = \"none\"\n",
    "\n",
    "# Drop any duplicates\n",
    "ut_wfm_tax_df.drop_duplicates(inplace = True)\n",
    "\n",
    "# Sort the results\n",
    "ut_wfm_tax_df.sort_values(by=['utlevel10description', 'utlevel15description','utlevel17description','gbspracticecode','utlevel30','sltlevel30'], inplace = True)\n",
    "\n",
    "# Remove the extra sltlevel30 - Since it is now in the prefix of the ut level 30 (Java tree builder assumes code - description pairs)\n",
    "ut_wfm_tax_df.drop(columns=['sltlevel30'], inplace = True)\n",
    "\n",
    "print(ut_wfm_tax_df.shape)\n",
    "ut_wfm_tax_df.head()"
   ]
  },
  {
   "cell_type": "code",
   "execution_count": 14,
   "metadata": {
    "scrolled": true
   },
   "outputs": [
    {
     "data": {
      "application/javascript": [
       "\n",
       "        (function(element){\n",
       "            require(['trees'], function(trees) {\n",
       "                trees(element.get(0), {\"jsonFile\": \"data/ut_tax_df.json\"}, 1600, 800);\n",
       "            });\n",
       "        })(element);\n",
       "    "
      ],
      "text/plain": [
       "<IPython.core.display.Javascript object>"
      ]
     },
     "metadata": {},
     "output_type": "display_data"
    }
   ],
   "source": [
    "# Build tree to verifyy the data pull and setup\n",
    "util.build_tree(ut_wfm_tax_df, [\"utlevel10\",\"utlevel15\",\"utlevel17\",\"gbspracticecode\",\"utlevel30description\"],1600,800,'data/ut_tax_df.json')"
   ]
  },
  {
   "cell_type": "markdown",
   "metadata": {},
   "source": [
    "<a id=\"3.3\"></a>\n",
    "\n",
    "---\n",
    "##### Financial Perspective"
   ]
  },
  {
   "cell_type": "code",
   "execution_count": 15,
   "metadata": {},
   "outputs": [
    {
     "name": "stdout",
     "output_type": "stream",
     "text": [
      "URL: https://prodfedcat001.w3-969.ibm.com:3000/api/v0.1/offerings/?size=ALL&q=utlevel10:10J00;ocstatus:O&filters=utlevel10,utlevel10description,utlevel15,utlevel15description,utlevel17,utlevel17description,sltlevel20,gbsofferingattribute,utlevel30,utlevel30description,sltlevel30,ocstatus\n"
     ]
    }
   ],
   "source": [
    "filters = 'utlevel10,utlevel10description,utlevel15,utlevel15description,utlevel17,utlevel17description\\\n",
    ",sltlevel20,gbsofferingattribute,utlevel30,utlevel30description,sltlevel30,ocstatus'\n",
    "url = (protocol + '://' + host + '/' + version + '/' + api  + '/?size=' + size + '&q=' + q + '&filters=' + filters)\n",
    "print(\"URL:\",url)\n",
    "\n",
    "columns=['utlevel10','utlevel10description','utlevel15','utlevel15description','utlevel17','utlevel17description'\n",
    "         ,'sltlevel20','gbsofferingattribute', 'utlevel30', 'utlevel30description', 'sltlevel30','ocstatus']"
   ]
  },
  {
   "cell_type": "code",
   "execution_count": 16,
   "metadata": {
    "scrolled": true
   },
   "outputs": [
    {
     "name": "stdout",
     "output_type": "stream",
     "text": [
      "(567, 12)\n",
      "(435, 12)\n"
     ]
    },
    {
     "data": {
      "text/html": [
       "<div>\n",
       "<style scoped>\n",
       "    .dataframe tbody tr th:only-of-type {\n",
       "        vertical-align: middle;\n",
       "    }\n",
       "\n",
       "    .dataframe tbody tr th {\n",
       "        vertical-align: top;\n",
       "    }\n",
       "\n",
       "    .dataframe thead th {\n",
       "        text-align: right;\n",
       "    }\n",
       "</style>\n",
       "<table border=\"1\" class=\"dataframe\">\n",
       "  <thead>\n",
       "    <tr style=\"text-align: right;\">\n",
       "      <th></th>\n",
       "      <th>utlevel10</th>\n",
       "      <th>utlevel10description</th>\n",
       "      <th>utlevel15</th>\n",
       "      <th>utlevel15description</th>\n",
       "      <th>utlevel17</th>\n",
       "      <th>utlevel17description</th>\n",
       "      <th>sltlevel20</th>\n",
       "      <th>gbsofferingattribute</th>\n",
       "      <th>utlevel30</th>\n",
       "      <th>utlevel30description</th>\n",
       "      <th>sltlevel30</th>\n",
       "      <th>ocstatus</th>\n",
       "    </tr>\n",
       "  </thead>\n",
       "  <tbody>\n",
       "    <tr>\n",
       "      <th>0</th>\n",
       "      <td>10J00</td>\n",
       "      <td>Global Business Services</td>\n",
       "      <td>15CAI</td>\n",
       "      <td>Cloud Application Innovation</td>\n",
       "      <td>17CMS</td>\n",
       "      <td>CAS Advise, Move &amp; Build</td>\n",
       "      <td>BUIT</td>\n",
       "      <td>CAS Advise, Move &amp; Build Top</td>\n",
       "      <td>30JR8</td>\n",
       "      <td>(ZZZZMOCL) (O) Cloud Modernization (AUO)</td>\n",
       "      <td>ZZZZMOCL</td>\n",
       "      <td>O</td>\n",
       "    </tr>\n",
       "    <tr>\n",
       "      <th>1</th>\n",
       "      <td>10J00</td>\n",
       "      <td>Global Business Services</td>\n",
       "      <td>15CAI</td>\n",
       "      <td>Cloud Application Innovation</td>\n",
       "      <td>17CMS</td>\n",
       "      <td>CAS Advise, Move &amp; Build</td>\n",
       "      <td>CLAD</td>\n",
       "      <td>Enterprise Cloud Strategy</td>\n",
       "      <td>30JMZ</td>\n",
       "      <td>(ZZZZ-CS1) (O) Enterprise Cloud Strategy (AUO)</td>\n",
       "      <td>ZZZZ-CS1</td>\n",
       "      <td>O</td>\n",
       "    </tr>\n",
       "    <tr>\n",
       "      <th>2</th>\n",
       "      <td>10J00</td>\n",
       "      <td>Global Business Services</td>\n",
       "      <td>15CAI</td>\n",
       "      <td>Cloud Application Innovation</td>\n",
       "      <td>17CMS</td>\n",
       "      <td>CAS Advise, Move &amp; Build</td>\n",
       "      <td>OPSV</td>\n",
       "      <td>OnPrem App Dev &amp; DevOps</td>\n",
       "      <td>30J7N</td>\n",
       "      <td>(ZZZZCLMG) (O) OnPrem App Dev &amp; DevOps (AUO)</td>\n",
       "      <td>ZZZZCLMG</td>\n",
       "      <td>O</td>\n",
       "    </tr>\n",
       "    <tr>\n",
       "      <th>3</th>\n",
       "      <td>10J00</td>\n",
       "      <td>Global Business Services</td>\n",
       "      <td>15CAI</td>\n",
       "      <td>Cloud Application Innovation</td>\n",
       "      <td>17CMS</td>\n",
       "      <td>CAS Advise, Move &amp; Build</td>\n",
       "      <td>OPSV</td>\n",
       "      <td>OnPrem App Dev &amp; DevOps</td>\n",
       "      <td>30J7N</td>\n",
       "      <td>(ZZZZOPSV) (O) OnPrem App Dev &amp; DevOps (AUO)</td>\n",
       "      <td>ZZZZOPSV</td>\n",
       "      <td>O</td>\n",
       "    </tr>\n",
       "    <tr>\n",
       "      <th>4</th>\n",
       "      <td>10J00</td>\n",
       "      <td>Global Business Services</td>\n",
       "      <td>15CAI</td>\n",
       "      <td>Cloud Application Innovation</td>\n",
       "      <td>17ADM</td>\n",
       "      <td>CAS Manage</td>\n",
       "      <td>AMSA</td>\n",
       "      <td>CAS Automation</td>\n",
       "      <td>30JLG</td>\n",
       "      <td>(ZZZZAMSA) (O) Application Management - OnPrem...</td>\n",
       "      <td>ZZZZAMSA</td>\n",
       "      <td>O</td>\n",
       "    </tr>\n",
       "  </tbody>\n",
       "</table>\n",
       "</div>"
      ],
      "text/plain": [
       "  utlevel10      utlevel10description utlevel15          utlevel15description  \\\n",
       "0     10J00  Global Business Services     15CAI  Cloud Application Innovation   \n",
       "1     10J00  Global Business Services     15CAI  Cloud Application Innovation   \n",
       "2     10J00  Global Business Services     15CAI  Cloud Application Innovation   \n",
       "3     10J00  Global Business Services     15CAI  Cloud Application Innovation   \n",
       "4     10J00  Global Business Services     15CAI  Cloud Application Innovation   \n",
       "\n",
       "  utlevel17      utlevel17description sltlevel20  \\\n",
       "0     17CMS  CAS Advise, Move & Build       BUIT   \n",
       "1     17CMS  CAS Advise, Move & Build       CLAD   \n",
       "2     17CMS  CAS Advise, Move & Build       OPSV   \n",
       "3     17CMS  CAS Advise, Move & Build       OPSV   \n",
       "4     17ADM                CAS Manage       AMSA   \n",
       "\n",
       "           gbsofferingattribute utlevel30  \\\n",
       "0  CAS Advise, Move & Build Top     30JR8   \n",
       "1     Enterprise Cloud Strategy     30JMZ   \n",
       "2       OnPrem App Dev & DevOps     30J7N   \n",
       "3       OnPrem App Dev & DevOps     30J7N   \n",
       "4                CAS Automation     30JLG   \n",
       "\n",
       "                                utlevel30description sltlevel30 ocstatus  \n",
       "0           (ZZZZMOCL) (O) Cloud Modernization (AUO)   ZZZZMOCL        O  \n",
       "1     (ZZZZ-CS1) (O) Enterprise Cloud Strategy (AUO)   ZZZZ-CS1        O  \n",
       "2       (ZZZZCLMG) (O) OnPrem App Dev & DevOps (AUO)   ZZZZCLMG        O  \n",
       "3       (ZZZZOPSV) (O) OnPrem App Dev & DevOps (AUO)   ZZZZOPSV        O  \n",
       "4  (ZZZZAMSA) (O) Application Management - OnPrem...   ZZZZAMSA        O  "
      ]
     },
     "execution_count": 16,
     "metadata": {},
     "output_type": "execute_result"
    }
   ],
   "source": [
    "# Call the fedcat API\n",
    "ut_fin_tax_df=util.get_dataframe_from_fedcat_api(url, columns)\n",
    "print(ut_fin_tax_df.shape)\n",
    "\n",
    "# Remove UT where SLT Level 30 (a.k.a. OCC) is blank\n",
    "ut_fin_tax_df.drop(ut_fin_tax_df[ut_fin_tax_df.sltlevel30.isna()].index,inplace=True)\n",
    "print(ut_fin_tax_df.shape)\n",
    "\n",
    "\n",
    "# Repurpose UT level 30 description to be prefixed with sltlevel30 code\n",
    "ut_fin_tax_df['utlevel30description']=\"(\"+ut_fin_tax_df['sltlevel30']+\") (\"+ut_fin_tax_df['ocstatus']+\") \"+ut_fin_tax_df['utlevel30description']\n",
    "ut_fin_tax_df.head()"
   ]
  },
  {
   "cell_type": "code",
   "execution_count": 17,
   "metadata": {
    "scrolled": true
   },
   "outputs": [
    {
     "name": "stdout",
     "output_type": "stream",
     "text": [
      "(435, 11)\n"
     ]
    },
    {
     "data": {
      "text/html": [
       "<div>\n",
       "<style scoped>\n",
       "    .dataframe tbody tr th:only-of-type {\n",
       "        vertical-align: middle;\n",
       "    }\n",
       "\n",
       "    .dataframe tbody tr th {\n",
       "        vertical-align: top;\n",
       "    }\n",
       "\n",
       "    .dataframe thead th {\n",
       "        text-align: right;\n",
       "    }\n",
       "</style>\n",
       "<table border=\"1\" class=\"dataframe\">\n",
       "  <thead>\n",
       "    <tr style=\"text-align: right;\">\n",
       "      <th></th>\n",
       "      <th>utlevel10</th>\n",
       "      <th>utlevel10description</th>\n",
       "      <th>utlevel15</th>\n",
       "      <th>utlevel15description</th>\n",
       "      <th>utlevel17</th>\n",
       "      <th>utlevel17description</th>\n",
       "      <th>sltlevel20</th>\n",
       "      <th>gbsofferingattribute</th>\n",
       "      <th>utlevel30</th>\n",
       "      <th>utlevel30description</th>\n",
       "      <th>ocstatus</th>\n",
       "    </tr>\n",
       "  </thead>\n",
       "  <tbody>\n",
       "    <tr>\n",
       "      <th>237</th>\n",
       "      <td>10J00</td>\n",
       "      <td>Global Business Services</td>\n",
       "      <td>15CAI</td>\n",
       "      <td>Cloud Application Innovation</td>\n",
       "      <td>17OCN</td>\n",
       "      <td>CAI Security</td>\n",
       "      <td>DAS</td>\n",
       "      <td>GBS Security Services - Data &amp; Application Sec...</td>\n",
       "      <td>30B24</td>\n",
       "      <td>(6950-27T) (O) (GBS) Data Activity Monitoring ...</td>\n",
       "      <td>O</td>\n",
       "    </tr>\n",
       "    <tr>\n",
       "      <th>315</th>\n",
       "      <td>10J00</td>\n",
       "      <td>Global Business Services</td>\n",
       "      <td>15CAI</td>\n",
       "      <td>Cloud Application Innovation</td>\n",
       "      <td>17OCN</td>\n",
       "      <td>CAI Security</td>\n",
       "      <td>DAS</td>\n",
       "      <td>GBS Security Services - Data &amp; Application Sec...</td>\n",
       "      <td>30B2I</td>\n",
       "      <td>(6950-23O) (O) (GBS) Data Sec Svcs (Custom Mgd...</td>\n",
       "      <td>O</td>\n",
       "    </tr>\n",
       "    <tr>\n",
       "      <th>236</th>\n",
       "      <td>10J00</td>\n",
       "      <td>Global Business Services</td>\n",
       "      <td>15CAI</td>\n",
       "      <td>Cloud Application Innovation</td>\n",
       "      <td>17OCN</td>\n",
       "      <td>CAI Security</td>\n",
       "      <td>DAS</td>\n",
       "      <td>GBS Security Services - Data &amp; Application Sec...</td>\n",
       "      <td>30BKK</td>\n",
       "      <td>(6950-87F) (O) (GBS) Data Security Svcs (Mgd) ...</td>\n",
       "      <td>O</td>\n",
       "    </tr>\n",
       "    <tr>\n",
       "      <th>314</th>\n",
       "      <td>10J00</td>\n",
       "      <td>Global Business Services</td>\n",
       "      <td>15CAI</td>\n",
       "      <td>Cloud Application Innovation</td>\n",
       "      <td>17OCN</td>\n",
       "      <td>CAI Security</td>\n",
       "      <td>DAS</td>\n",
       "      <td>GBS Security Services - Data &amp; Application Sec...</td>\n",
       "      <td>30BKL</td>\n",
       "      <td>(6950-17T) (O) (GBS) Data Security Svcs (Agile...</td>\n",
       "      <td>O</td>\n",
       "    </tr>\n",
       "    <tr>\n",
       "      <th>545</th>\n",
       "      <td>10J00</td>\n",
       "      <td>Global Business Services</td>\n",
       "      <td>15CAI</td>\n",
       "      <td>Cloud Application Innovation</td>\n",
       "      <td>17OCN</td>\n",
       "      <td>CAI Security</td>\n",
       "      <td>DAS</td>\n",
       "      <td>GBS Security Services - Data &amp; Application Sec...</td>\n",
       "      <td>30BQ0</td>\n",
       "      <td>(6950-96G) (O) (GBS) Security Services for CAS...</td>\n",
       "      <td>O</td>\n",
       "    </tr>\n",
       "  </tbody>\n",
       "</table>\n",
       "</div>"
      ],
      "text/plain": [
       "    utlevel10      utlevel10description utlevel15  \\\n",
       "237     10J00  Global Business Services     15CAI   \n",
       "315     10J00  Global Business Services     15CAI   \n",
       "236     10J00  Global Business Services     15CAI   \n",
       "314     10J00  Global Business Services     15CAI   \n",
       "545     10J00  Global Business Services     15CAI   \n",
       "\n",
       "             utlevel15description utlevel17 utlevel17description sltlevel20  \\\n",
       "237  Cloud Application Innovation     17OCN         CAI Security        DAS   \n",
       "315  Cloud Application Innovation     17OCN         CAI Security        DAS   \n",
       "236  Cloud Application Innovation     17OCN         CAI Security        DAS   \n",
       "314  Cloud Application Innovation     17OCN         CAI Security        DAS   \n",
       "545  Cloud Application Innovation     17OCN         CAI Security        DAS   \n",
       "\n",
       "                                  gbsofferingattribute utlevel30  \\\n",
       "237  GBS Security Services - Data & Application Sec...     30B24   \n",
       "315  GBS Security Services - Data & Application Sec...     30B2I   \n",
       "236  GBS Security Services - Data & Application Sec...     30BKK   \n",
       "314  GBS Security Services - Data & Application Sec...     30BKL   \n",
       "545  GBS Security Services - Data & Application Sec...     30BQ0   \n",
       "\n",
       "                                  utlevel30description ocstatus  \n",
       "237  (6950-27T) (O) (GBS) Data Activity Monitoring ...        O  \n",
       "315  (6950-23O) (O) (GBS) Data Sec Svcs (Custom Mgd...        O  \n",
       "236  (6950-87F) (O) (GBS) Data Security Svcs (Mgd) ...        O  \n",
       "314  (6950-17T) (O) (GBS) Data Security Svcs (Agile...        O  \n",
       "545  (6950-96G) (O) (GBS) Security Services for CAS...        O  "
      ]
     },
     "execution_count": 17,
     "metadata": {},
     "output_type": "execute_result"
    }
   ],
   "source": [
    "# Replace Null sltlevel20 to \"none\".  Without this the tree does not show UT level 30s\n",
    "ut_fin_tax_df.loc[ut_fin_tax_df['sltlevel20'].isnull(),'sltlevel20'] = \"(\"+ut_wfm_tax_df['utlevel17']+\") none\"\n",
    "ut_fin_tax_df.loc[ut_fin_tax_df['gbsofferingattribute'].isnull(),'gbsofferingattribute'] = \"none\"\n",
    "\n",
    "# Drop any duplicates\n",
    "ut_fin_tax_df.drop_duplicates(inplace = True)\n",
    "\n",
    "# Sort the results\n",
    "ut_fin_tax_df.sort_values(by=['utlevel10description', 'utlevel15description','utlevel17description','sltlevel20','utlevel30','sltlevel30'], inplace = True)\n",
    "\n",
    "# Remove the extra sltlevel30 - Since it is now in the prefix of the ut level 30 (Java tree builder assumes code - description pairs)\n",
    "ut_fin_tax_df.drop(columns=['sltlevel30'], inplace = True)\n",
    "\n",
    "print(ut_fin_tax_df.shape)\n",
    "ut_fin_tax_df.head()"
   ]
  },
  {
   "cell_type": "code",
   "execution_count": 22,
   "metadata": {
    "scrolled": true
   },
   "outputs": [
    {
     "data": {
      "application/javascript": [
       "\n",
       "        (function(element){\n",
       "            require(['trees'], function(trees) {\n",
       "                trees(element.get(0), {\"jsonFile\": \"data/ut_tax_fin_df.json\"}, 1600, 800);\n",
       "            });\n",
       "        })(element);\n",
       "    "
      ],
      "text/plain": [
       "<IPython.core.display.Javascript object>"
      ]
     },
     "metadata": {},
     "output_type": "display_data"
    }
   ],
   "source": [
    "# Build tree to verifyy the data pull and setup\n",
    "util.build_tree(ut_fin_tax_df, [\"utlevel10\",\"utlevel15\",\"utlevel17\",\"sltlevel20\",\"utlevel30description\"],1600,800,'data/ut_tax_fin_df.json')"
   ]
  }
 ],
 "metadata": {
  "kernelspec": {
   "display_name": "Python 3",
   "language": "python",
   "name": "python3"
  },
  "language_info": {
   "codemirror_mode": {
    "name": "ipython",
    "version": 3
   },
   "file_extension": ".py",
   "mimetype": "text/x-python",
   "name": "python",
   "nbconvert_exporter": "python",
   "pygments_lexer": "ipython3",
   "version": "3.8.3"
  }
 },
 "nbformat": 4,
 "nbformat_minor": 4
}
